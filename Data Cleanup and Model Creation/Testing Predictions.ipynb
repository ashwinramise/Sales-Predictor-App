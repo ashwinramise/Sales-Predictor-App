{
 "cells": [
  {
   "cell_type": "code",
   "execution_count": 1,
   "metadata": {},
   "outputs": [],
   "source": [
    "import pandas as pd\n",
    "from sklearn.tree import DecisionTreeClassifier as dtc\n",
    "import For_Double_Model_Creation as fdm"
   ]
  },
  {
   "cell_type": "code",
   "execution_count": 2,
   "metadata": {},
   "outputs": [],
   "source": [
    "Data = pd.read_csv('2018-2020 Sales,COVID,Demogrphics_Ver2 (1).csv')"
   ]
  },
  {
   "cell_type": "code",
   "execution_count": 3,
   "metadata": {},
   "outputs": [
    {
     "data": {
      "text/html": [
       "<div>\n",
       "<style scoped>\n",
       "    .dataframe tbody tr th:only-of-type {\n",
       "        vertical-align: middle;\n",
       "    }\n",
       "\n",
       "    .dataframe tbody tr th {\n",
       "        vertical-align: top;\n",
       "    }\n",
       "\n",
       "    .dataframe thead th {\n",
       "        text-align: right;\n",
       "    }\n",
       "</style>\n",
       "<table border=\"1\" class=\"dataframe\">\n",
       "  <thead>\n",
       "    <tr style=\"text-align: right;\">\n",
       "      <th></th>\n",
       "      <th>Unnamed: 0</th>\n",
       "      <th>Sub Brand</th>\n",
       "      <th>Bill Date</th>\n",
       "      <th>Qty</th>\n",
       "      <th>Brand</th>\n",
       "      <th>State</th>\n",
       "      <th>County</th>\n",
       "      <th>Geographical Classification</th>\n",
       "      <th>R_Res</th>\n",
       "      <th>B_Res</th>\n",
       "      <th>...</th>\n",
       "      <th>labor_force_participation</th>\n",
       "      <th>unemployment_rate</th>\n",
       "      <th>race_white</th>\n",
       "      <th>race_black</th>\n",
       "      <th>race_asian</th>\n",
       "      <th>race_native</th>\n",
       "      <th>race_pacific</th>\n",
       "      <th>race_other</th>\n",
       "      <th>race_multiple</th>\n",
       "      <th>Year</th>\n",
       "    </tr>\n",
       "  </thead>\n",
       "  <tbody>\n",
       "    <tr>\n",
       "      <th>0</th>\n",
       "      <td>0</td>\n",
       "      <td>E470</td>\n",
       "      <td>2/1/2018</td>\n",
       "      <td>11</td>\n",
       "      <td>PCG THINK NOTEBOOK</td>\n",
       "      <td>New York</td>\n",
       "      <td>Kings</td>\n",
       "      <td>Urban</td>\n",
       "      <td>N</td>\n",
       "      <td>N</td>\n",
       "      <td>...</td>\n",
       "      <td>71.5</td>\n",
       "      <td>5.4</td>\n",
       "      <td>64.1</td>\n",
       "      <td>13.6</td>\n",
       "      <td>11.8</td>\n",
       "      <td>0.2</td>\n",
       "      <td>0.1</td>\n",
       "      <td>4.3</td>\n",
       "      <td>5.9</td>\n",
       "      <td>2018</td>\n",
       "    </tr>\n",
       "    <tr>\n",
       "      <th>1</th>\n",
       "      <td>1</td>\n",
       "      <td>YOGA 920-13IKB</td>\n",
       "      <td>2/1/2018</td>\n",
       "      <td>1</td>\n",
       "      <td>PCG LENOVO NOTEBOOK</td>\n",
       "      <td>California</td>\n",
       "      <td>Yolo</td>\n",
       "      <td>Urban</td>\n",
       "      <td>N</td>\n",
       "      <td>N</td>\n",
       "      <td>...</td>\n",
       "      <td>52.6</td>\n",
       "      <td>6.5</td>\n",
       "      <td>60.4</td>\n",
       "      <td>2.8</td>\n",
       "      <td>25.5</td>\n",
       "      <td>0.1</td>\n",
       "      <td>0.2</td>\n",
       "      <td>4.3</td>\n",
       "      <td>6.6</td>\n",
       "      <td>2018</td>\n",
       "    </tr>\n",
       "  </tbody>\n",
       "</table>\n",
       "<p>2 rows × 33 columns</p>\n",
       "</div>"
      ],
      "text/plain": [
       "   Unnamed: 0       Sub Brand Bill Date  Qty                Brand       State  \\\n",
       "0           0            E470  2/1/2018   11   PCG THINK NOTEBOOK    New York   \n",
       "1           1  YOGA 920-13IKB  2/1/2018    1  PCG LENOVO NOTEBOOK  California   \n",
       "\n",
       "  County Geographical Classification R_Res B_Res  ...  \\\n",
       "0  Kings                       Urban     N     N  ...   \n",
       "1   Yolo                       Urban     N     N  ...   \n",
       "\n",
       "  labor_force_participation unemployment_rate race_white race_black  \\\n",
       "0                      71.5               5.4       64.1       13.6   \n",
       "1                      52.6               6.5       60.4        2.8   \n",
       "\n",
       "  race_asian race_native race_pacific  race_other  race_multiple  Year  \n",
       "0       11.8         0.2          0.1         4.3            5.9  2018  \n",
       "1       25.5         0.1          0.2         4.3            6.6  2018  \n",
       "\n",
       "[2 rows x 33 columns]"
      ]
     },
     "execution_count": 3,
     "metadata": {},
     "output_type": "execute_result"
    }
   ],
   "source": [
    "Data.head(2)"
   ]
  },
  {
   "cell_type": "code",
   "execution_count": 4,
   "metadata": {},
   "outputs": [
    {
     "name": "stdout",
     "output_type": "stream",
     "text": [
      "Wall time: 4min 43s\n"
     ]
    }
   ],
   "source": [
    "%%time\n",
    "x,y = fdm.create_pars_for_model(Data, predict='Predict_Orders')\n",
    "%%time\n",
    "xSales, ySales = fdm.create_pars_for_model(Data, predict='Predict_Sales')"
   ]
  },
  {
   "cell_type": "code",
   "execution_count": 5,
   "metadata": {},
   "outputs": [
    {
     "name": "stdout",
     "output_type": "stream",
     "text": [
      "Wall time: 4min 59s\n"
     ]
    }
   ],
   "source": [
    "%%time\n",
    "xNat, yNat = fdm.create_pars_for_model(Data, model_type='Natural History', predict='Predict_Sales')"
   ]
  },
  {
   "cell_type": "code",
   "execution_count": 6,
   "metadata": {},
   "outputs": [
    {
     "name": "stdout",
     "output_type": "stream",
     "text": [
      "Wall time: 4min 55s\n"
     ]
    }
   ],
   "source": [
    "%%time\n",
    "xSales, ySales = fdm.create_pars_for_model(Data, predict='Predict_Sales')"
   ]
  },
  {
   "cell_type": "code",
   "execution_count": 7,
   "metadata": {},
   "outputs": [],
   "source": [
    "model_R_Res,model_B_Res,model_S_Res,model_G_Res, model_NE_Res,model_SAH, model_EM, model_FM, model_Q_Res = fdm.create_models_for_orders(x,y)"
   ]
  },
  {
   "cell_type": "code",
   "execution_count": 11,
   "metadata": {},
   "outputs": [],
   "source": [
    "PanSales = fdm.model_creation(xSales,ySales,4)"
   ]
  },
  {
   "cell_type": "code",
   "execution_count": 28,
   "metadata": {},
   "outputs": [],
   "source": [
    "History_Sales = fdm.model_creation(xNat,yNat,5)"
   ]
  },
  {
   "cell_type": "code",
   "execution_count": 13,
   "metadata": {},
   "outputs": [],
   "source": [
    "from sklearn.externals import joblib"
   ]
  },
  {
   "cell_type": "code",
   "execution_count": 15,
   "metadata": {},
   "outputs": [
    {
     "data": {
      "text/plain": [
       "['.\\\\DataModels\\\\Predict Orders\\\\model_R_Res.joblib']"
      ]
     },
     "execution_count": 15,
     "metadata": {},
     "output_type": "execute_result"
    }
   ],
   "source": [
    "joblib.dump(model_R_Res, '.\\DataModels\\Predict Orders\\model_R_Res.joblib')"
   ]
  },
  {
   "cell_type": "code",
   "execution_count": 16,
   "metadata": {},
   "outputs": [
    {
     "data": {
      "text/plain": [
       "['.\\\\DataModels\\\\Predict Orders\\\\model_B_Res.joblib']"
      ]
     },
     "execution_count": 16,
     "metadata": {},
     "output_type": "execute_result"
    }
   ],
   "source": [
    "joblib.dump(model_B_Res, '.\\DataModels\\Predict Orders\\model_B_Res.joblib')"
   ]
  },
  {
   "cell_type": "code",
   "execution_count": 17,
   "metadata": {},
   "outputs": [
    {
     "data": {
      "text/plain": [
       "['.\\\\DataModels\\\\Predict Orders\\\\model_S_Res.joblib']"
      ]
     },
     "execution_count": 17,
     "metadata": {},
     "output_type": "execute_result"
    }
   ],
   "source": [
    "joblib.dump(model_S_Res, '.\\DataModels\\Predict Orders\\model_S_Res.joblib')"
   ]
  },
  {
   "cell_type": "code",
   "execution_count": 18,
   "metadata": {},
   "outputs": [
    {
     "data": {
      "text/plain": [
       "['.\\\\DataModels\\\\Predict Orders\\\\model_G_Res.joblib']"
      ]
     },
     "execution_count": 18,
     "metadata": {},
     "output_type": "execute_result"
    }
   ],
   "source": [
    "joblib.dump(model_G_Res, '.\\DataModels\\Predict Orders\\model_G_Res.joblib')"
   ]
  },
  {
   "cell_type": "code",
   "execution_count": 19,
   "metadata": {},
   "outputs": [
    {
     "data": {
      "text/plain": [
       "['.\\\\DataModels\\\\Predict Orders\\\\model_NE_Res.joblib']"
      ]
     },
     "execution_count": 19,
     "metadata": {},
     "output_type": "execute_result"
    }
   ],
   "source": [
    "joblib.dump(model_NE_Res, '.\\DataModels\\Predict Orders\\model_NE_Res.joblib')"
   ]
  },
  {
   "cell_type": "code",
   "execution_count": 20,
   "metadata": {},
   "outputs": [
    {
     "data": {
      "text/plain": [
       "['.\\\\DataModels\\\\Predict Orders\\\\model_SAH.joblib']"
      ]
     },
     "execution_count": 20,
     "metadata": {},
     "output_type": "execute_result"
    }
   ],
   "source": [
    "joblib.dump(model_SAH, '.\\DataModels\\Predict Orders\\model_SAH.joblib')"
   ]
  },
  {
   "cell_type": "code",
   "execution_count": 21,
   "metadata": {},
   "outputs": [
    {
     "data": {
      "text/plain": [
       "['.\\\\DataModels\\\\Predict Orders\\\\model_EM.joblib']"
      ]
     },
     "execution_count": 21,
     "metadata": {},
     "output_type": "execute_result"
    }
   ],
   "source": [
    "joblib.dump(model_EM, '.\\DataModels\\Predict Orders\\model_EM.joblib')"
   ]
  },
  {
   "cell_type": "code",
   "execution_count": 22,
   "metadata": {},
   "outputs": [
    {
     "data": {
      "text/plain": [
       "['.\\\\DataModels\\\\Predict Orders\\\\model_FM.joblib']"
      ]
     },
     "execution_count": 22,
     "metadata": {},
     "output_type": "execute_result"
    }
   ],
   "source": [
    "joblib.dump(model_FM, '.\\DataModels\\Predict Orders\\model_FM.joblib')"
   ]
  },
  {
   "cell_type": "code",
   "execution_count": 23,
   "metadata": {},
   "outputs": [
    {
     "data": {
      "text/plain": [
       "['.\\\\DataModels\\\\Predict Orders\\\\model_Q_Res.joblib']"
      ]
     },
     "execution_count": 23,
     "metadata": {},
     "output_type": "execute_result"
    }
   ],
   "source": [
    "joblib.dump(model_Q_Res, '.\\DataModels\\Predict Orders\\model_Q_Res.joblib')"
   ]
  },
  {
   "cell_type": "code",
   "execution_count": 24,
   "metadata": {},
   "outputs": [
    {
     "data": {
      "text/plain": [
       "['.\\\\DataModels\\\\Predict Sales\\\\PanSales.joblib']"
      ]
     },
     "execution_count": 24,
     "metadata": {},
     "output_type": "execute_result"
    }
   ],
   "source": [
    "joblib.dump(PanSales, '.\\DataModels\\Predict Sales\\PanSales.joblib')"
   ]
  },
  {
   "cell_type": "code",
   "execution_count": 29,
   "metadata": {},
   "outputs": [
    {
     "data": {
      "text/plain": [
       "['.\\\\DataModels\\\\Predict Sales\\\\History_Sales.joblib']"
      ]
     },
     "execution_count": 29,
     "metadata": {},
     "output_type": "execute_result"
    }
   ],
   "source": [
    "joblib.dump(History_Sales,'.\\DataModels\\Predict Sales\\History_Sales.joblib')"
   ]
  },
  {
   "cell_type": "code",
   "execution_count": 8,
   "metadata": {},
   "outputs": [],
   "source": [
    "Datalis = Data['B_Res'].unique()"
   ]
  },
  {
   "cell_type": "code",
   "execution_count": 9,
   "metadata": {},
   "outputs": [
    {
     "data": {
      "text/plain": [
       "array(['N', 'M', 'R', 'E'], dtype=object)"
      ]
     },
     "execution_count": 9,
     "metadata": {},
     "output_type": "execute_result"
    }
   ],
   "source": [
    "Datalis"
   ]
  },
  {
   "cell_type": "code",
   "execution_count": null,
   "metadata": {},
   "outputs": [],
   "source": [
    "NewData"
   ]
  },
  {
   "cell_type": "code",
   "execution_count": null,
   "metadata": {},
   "outputs": [],
   "source": [
    "PanSales = fdm.model_creation(xSales,ySales,4)"
   ]
  },
  {
   "cell_type": "code",
   "execution_count": null,
   "metadata": {},
   "outputs": [],
   "source": [
    "NewData.columns"
   ]
  },
  {
   "cell_type": "code",
   "execution_count": null,
   "metadata": {},
   "outputs": [],
   "source": [
    "# Create an empty list \n",
    "Row_list =[] \n",
    "  \n",
    "# Iterate over each row \n",
    "for index, rows in NewData.iterrows(): \n",
    "    # Create list for the current row \n",
    "    my_list =[rows.R_Res, rows.B_Res, rows.S_Res, rows.G_Res, rows.NE_Res, rows.SAH, rows.EM, rows.FM,\n",
    "       rows.Q_Res, rows.age_median, rows.family_size, rows.income_household_median,\n",
    "       rows.education_college_or_above, rows.labor_force_participation] \n",
    "      \n",
    "    # append the list to the final list \n",
    "    Row_list.append(my_list) \n",
    "  \n",
    "# Print the list \n",
    "Row_list"
   ]
  },
  {
   "cell_type": "code",
   "execution_count": null,
   "metadata": {},
   "outputs": [],
   "source": [
    "plist = []\n",
    "for row in Row_list:\n",
    "    p = PanSales.predict([row])\n",
    "    plist.append(p[0])"
   ]
  },
  {
   "cell_type": "code",
   "execution_count": null,
   "metadata": {},
   "outputs": [],
   "source": [
    "max(plist)"
   ]
  },
  {
   "cell_type": "code",
   "execution_count": null,
   "metadata": {},
   "outputs": [],
   "source": [
    "NewData['Sales'] = plist"
   ]
  },
  {
   "cell_type": "code",
   "execution_count": null,
   "metadata": {},
   "outputs": [],
   "source": [
    "NewData"
   ]
  },
  {
   "cell_type": "code",
   "execution_count": null,
   "metadata": {},
   "outputs": [],
   "source": [
    "DataPred = Data[Data['Year'] == 2020]"
   ]
  },
  {
   "cell_type": "code",
   "execution_count": null,
   "metadata": {},
   "outputs": [],
   "source": [
    "DataPred"
   ]
  },
  {
   "cell_type": "code",
   "execution_count": null,
   "metadata": {},
   "outputs": [],
   "source": [
    "len(plist)"
   ]
  },
  {
   "cell_type": "code",
   "execution_count": null,
   "metadata": {},
   "outputs": [],
   "source": [
    "len(Row_list)"
   ]
  },
  {
   "cell_type": "code",
   "execution_count": null,
   "metadata": {},
   "outputs": [],
   "source": [
    "# Create an empty list \n",
    "Row_list =[] \n",
    "  \n",
    "# Iterate over each row \n",
    "for index, rows in xSales.iterrows(): \n",
    "    # Create list for the current row \n",
    "    my_list =[rows.R_Res, rows.B_Res, rows.S_Res, rows.G_Res, rows.NE_Res, rows.SAH, rows.EM, rows.FM,\n",
    "       rows.Q_Res, rows.age_median, rows.family_size, rows.income_household_median,\n",
    "       rows.education_college_or_above, rows.labor_force_participation] \n",
    "      \n",
    "    # append the list to the final list \n",
    "    Row_list.append(my_list)"
   ]
  },
  {
   "cell_type": "code",
   "execution_count": null,
   "metadata": {},
   "outputs": [],
   "source": [
    "plist = []\n",
    "for row in Row_list:\n",
    "    p = PanSales.predict([row])\n",
    "    plist.append(p[0])"
   ]
  },
  {
   "cell_type": "code",
   "execution_count": null,
   "metadata": {},
   "outputs": [],
   "source": [
    "DataPred.shape"
   ]
  },
  {
   "cell_type": "code",
   "execution_count": null,
   "metadata": {},
   "outputs": [],
   "source": [
    "len(plist)"
   ]
  },
  {
   "cell_type": "code",
   "execution_count": null,
   "metadata": {},
   "outputs": [],
   "source": [
    "DataPred['Sale'] = plist"
   ]
  },
  {
   "cell_type": "code",
   "execution_count": null,
   "metadata": {},
   "outputs": [],
   "source": [
    "DataPred"
   ]
  },
  {
   "cell_type": "code",
   "execution_count": null,
   "metadata": {},
   "outputs": [],
   "source": [
    "Qtylist = DataPred['Qty'].to_list()"
   ]
  },
  {
   "cell_type": "code",
   "execution_count": null,
   "metadata": {},
   "outputs": [],
   "source": [
    "Qtylist"
   ]
  },
  {
   "cell_type": "code",
   "execution_count": null,
   "metadata": {},
   "outputs": [],
   "source": [
    "Diff = []\n",
    "for i in range(len(Qtylist)):\n",
    "    diff = Qtylist[i] - plist[i]\n",
    "    Diff.append(diff)"
   ]
  },
  {
   "cell_type": "code",
   "execution_count": null,
   "metadata": {},
   "outputs": [],
   "source": [
    "counter = []\n",
    "for ele in Diff:\n",
    "    if ele <= 2:\n",
    "        counter.append(ele)"
   ]
  },
  {
   "cell_type": "code",
   "execution_count": null,
   "metadata": {},
   "outputs": [],
   "source": [
    "len(counter)"
   ]
  },
  {
   "cell_type": "code",
   "execution_count": null,
   "metadata": {},
   "outputs": [],
   "source": [
    "len(plist)"
   ]
  },
  {
   "cell_type": "code",
   "execution_count": null,
   "metadata": {},
   "outputs": [],
   "source": [
    "len(counter)/len(plist)"
   ]
  },
  {
   "cell_type": "code",
   "execution_count": null,
   "metadata": {},
   "outputs": [],
   "source": [
    "NatModel = fdm.model_creation(xNat,yNat,4)"
   ]
  },
  {
   "cell_type": "markdown",
   "metadata": {},
   "source": [
    "model_R_Res,model_B_Res,model_S_Res,model_G_Res, model_NE_Res,model_SAH, model_EM, model_FM, model_Q_Res"
   ]
  },
  {
   "cell_type": "code",
   "execution_count": null,
   "metadata": {},
   "outputs": [],
   "source": [
    "Cali = Data[Data['State'] == 'California']"
   ]
  },
  {
   "cell_type": "code",
   "execution_count": null,
   "metadata": {},
   "outputs": [],
   "source": [
    "Cali.columns"
   ]
  },
  {
   "cell_type": "code",
   "execution_count": null,
   "metadata": {},
   "outputs": [],
   "source": [
    "Dataset = Cali[['Covid cases', 'age_median',\n",
    "                 'family_size', 'income_household_median', 'education_college_or_above',\n",
    "                 'labor_force_participation']]"
   ]
  },
  {
   "cell_type": "code",
   "execution_count": null,
   "metadata": {},
   "outputs": [],
   "source": [
    "Dataset.columns = ['Covid_cases', 'age_median', 'family_size', 'income_household_median',\n",
    "       'education_college_or_above', 'labor_force_participation']"
   ]
  },
  {
   "cell_type": "code",
   "execution_count": null,
   "metadata": {},
   "outputs": [],
   "source": [
    "Dataset"
   ]
  },
  {
   "cell_type": "code",
   "execution_count": null,
   "metadata": {},
   "outputs": [],
   "source": [
    "# Create an empty list \n",
    "Row_list =[] \n",
    "  \n",
    "# Iterate over each row \n",
    "for index, rows in Dataset.iterrows(): \n",
    "    # Create list for the current row \n",
    "    my_list =[rows.Covid_cases, rows.age_median, rows.family_size,rows.income_household_median,\n",
    "       rows.education_college_or_above, rows.labor_force_participation] \n",
    "      \n",
    "    # append the list to the final list \n",
    "    Row_list.append(my_list)"
   ]
  },
  {
   "cell_type": "code",
   "execution_count": null,
   "metadata": {},
   "outputs": [],
   "source": [
    "model_R_Re =[]\n",
    "model_B_Re = []\n",
    "model_S_Re = []\n",
    "model_G_Re = []\n",
    "model_NE_Re = []\n",
    "model_SA = []\n",
    "model_E = []\n",
    "model_F = []\n",
    "model_Q_Re = []\n",
    "for row in Row_list:\n",
    "    R = model_R_Res.predict([row])\n",
    "    B =model_B_Res.predict([row])\n",
    "    S =model_S_Res.predict([row])\n",
    "    G =model_G_Res.predict([row])\n",
    "    NE =model_NE_Res.predict([row])\n",
    "    SAH = model_SAH.predict([row])\n",
    "    EM = model_EM.predict([row])\n",
    "    FM =model_FM.predict([row])\n",
    "    Q =model_Q_Res.predict([row])\n",
    "    model_R_Re.append(R[0])\n",
    "    model_B_Re.append(B[0])\n",
    "    model_S_Re.append(S[0])\n",
    "    model_G_Re.append(G[0])\n",
    "    model_NE_Re.append(NE[0])\n",
    "    model_SA.append(SAH[0])\n",
    "    model_E.append(EM[0])\n",
    "    model_F.append(FM[0])\n",
    "    model_Q_Re.append(Q[0])"
   ]
  },
  {
   "cell_type": "code",
   "execution_count": null,
   "metadata": {},
   "outputs": [],
   "source": [
    "Cali['R_Res'] = model_R_Re\n",
    "Cali['B_Res'] = model_B_Re\n",
    "Cali['S_Res'] = model_S_Re\n",
    "Cali['G_Res'] = model_G_Re\n",
    "Cali['NE_Res'] = model_NE_Re\n",
    "Cali['SAH'] = model_SA\n",
    "Cali['EM'] = model_E\n",
    "Cali['FM'] = model_F\n",
    "Cali['Q_Res'] = model_Q_Re"
   ]
  },
  {
   "cell_type": "code",
   "execution_count": null,
   "metadata": {},
   "outputs": [],
   "source": [
    "Cali['Q_Res']"
   ]
  },
  {
   "cell_type": "code",
   "execution_count": null,
   "metadata": {},
   "outputs": [],
   "source": [
    "New = Cali[['R_Res', 'B_Res',\n",
    "                 'S_Res', 'G_Res', 'NE_Res', 'SAH', 'EM', 'FM', 'Q_Res', 'age_median',\n",
    "                 'family_size', 'income_household_median', 'education_college_or_above',\n",
    "                 'labor_force_participation']]"
   ]
  },
  {
   "cell_type": "code",
   "execution_count": null,
   "metadata": {},
   "outputs": [],
   "source": [
    "New"
   ]
  },
  {
   "cell_type": "code",
   "execution_count": null,
   "metadata": {},
   "outputs": [],
   "source": [
    "# Create an empty list \n",
    "Row_list =[] \n",
    "  \n",
    "# Iterate over each row \n",
    "for index, rows in New.iterrows(): \n",
    "    # Create list for the current row \n",
    "    my_list =[rows.R_Res, rows.B_Res, rows.S_Res, rows.G_Res, rows.NE_Res, rows.SAH, rows.EM, rows.FM,\n",
    "       rows.Q_Res, rows.age_median, rows.family_size, rows.income_household_median,\n",
    "       rows.education_college_or_above, rows.labor_force_participation] \n",
    "      \n",
    "    # append the list to the final list \n",
    "    Row_list.append(my_list)"
   ]
  },
  {
   "cell_type": "code",
   "execution_count": null,
   "metadata": {},
   "outputs": [],
   "source": [
    "salelist = []\n",
    "for row in Row_list:\n",
    "    sale = PanSales.predict([row])\n",
    "    salelist.append(sale[0])"
   ]
  },
  {
   "cell_type": "code",
   "execution_count": null,
   "metadata": {},
   "outputs": [],
   "source": [
    "Qty = Cali['Qty'].to_list()"
   ]
  },
  {
   "cell_type": "code",
   "execution_count": null,
   "metadata": {},
   "outputs": [],
   "source": [
    "len(Qty) - len(salelist)"
   ]
  },
  {
   "cell_type": "code",
   "execution_count": null,
   "metadata": {},
   "outputs": [],
   "source": [
    "Diff = [Qty[i] - salelist[i] for i in range(len(Qty))]"
   ]
  },
  {
   "cell_type": "code",
   "execution_count": null,
   "metadata": {},
   "outputs": [],
   "source": [
    "q = [ele for ele in Diff if ele==0]"
   ]
  },
  {
   "cell_type": "code",
   "execution_count": null,
   "metadata": {},
   "outputs": [],
   "source": [
    "len(q) / len(Qty)"
   ]
  },
  {
   "cell_type": "code",
   "execution_count": null,
   "metadata": {},
   "outputs": [],
   "source": [
    "Cali['Pred'] = salelist"
   ]
  },
  {
   "cell_type": "code",
   "execution_count": null,
   "metadata": {},
   "outputs": [],
   "source": [
    "grp = Cali.groupby('Bill Date').agg({'Qty':'sum', 'Pred':'sum'}).reset_index()"
   ]
  },
  {
   "cell_type": "code",
   "execution_count": null,
   "metadata": {},
   "outputs": [],
   "source": [
    "grp.dtypes"
   ]
  },
  {
   "cell_type": "code",
   "execution_count": null,
   "metadata": {},
   "outputs": [],
   "source": [
    "import plotly.graph_objects as go\n",
    "from plotly.subplots import make_subplots\n",
    "df2 = Cali.groupby('Bill Date').agg({'Qty':'sum','Pred':'sum'}).reset_index()\n",
    "fig = make_subplots(specs=[[{\"secondary_y\": False\n",
    "                                  }]])\n",
    "\n",
    "fig.add_trace(\n",
    "    go.Line(x=df2['Bill Date'], y=df2['Qty'], name=\"Actual Sales\"),\n",
    "    secondary_y=False,\n",
    ")\n",
    "\n",
    "# Add traces\n",
    "fig.add_trace(\n",
    "    go.Line(x=df2['Bill Date'], y=df2['Pred'], name=\"Predictions\"),\n",
    "    secondary_y=False,\n",
    ")\n",
    "\n",
    " # Add figure title\n",
    "fig.update_layout(\n",
    "    title_text=\"Sales vs Prediction\", plot_bgcolor='rgba(0,0,0,0)'\n",
    ")\n",
    "\n",
    "# Set x-axis title\n",
    "fig.update_xaxes(title_text=\"Dates\")\n",
    "\n",
    "# Set y-axes titles\n",
    "fig.update_yaxes(title_text=\"Sales Qty\", secondary_y=False)\n",
    "\n",
    "fig.show()"
   ]
  },
  {
   "cell_type": "code",
   "execution_count": null,
   "metadata": {},
   "outputs": [],
   "source": [
    "Cali.to_csv('First Preds.csv')"
   ]
  },
  {
   "cell_type": "code",
   "execution_count": null,
   "metadata": {},
   "outputs": [],
   "source": [
    "Grouped = Cali.groupby('Bill Date').agg({'Qty':'sum','R_Res':'first', 'B_Res':'first', 'S_Res':'first',\n",
    "       'G_Res':'first', 'NE_Res':'first', 'SAH':'first', 'EM':'first', 'FM':'first', 'Q_Res':'first',\n",
    "                               'age_median':'mean', 'family_size':'mean',\n",
    "       'income_household_median':'mean', 'education_college_or_above':'mean',\n",
    "       'labor_force_participation':'mean', 'unemployment_rate':'mean', 'race_white':'mean',\n",
    "       'race_black':'mean', 'race_asian':'mean', 'race_native':'mean', 'race_pacific':'mean', 'race_other':'mean',\n",
    "       'race_multiple':'mean'}).reset_index()"
   ]
  },
  {
   "cell_type": "code",
   "execution_count": null,
   "metadata": {},
   "outputs": [],
   "source": [
    "Grouped['Bill Date'] = pd.to_datetime(Grouped['Bill Date'],dayfirst = True)"
   ]
  },
  {
   "cell_type": "code",
   "execution_count": null,
   "metadata": {},
   "outputs": [],
   "source": [
    "Grouped.sort_values(by = 'Bill Date', inplace=True)"
   ]
  },
  {
   "cell_type": "code",
   "execution_count": null,
   "metadata": {},
   "outputs": [],
   "source": [
    "Grouped"
   ]
  },
  {
   "cell_type": "code",
   "execution_count": 1,
   "metadata": {},
   "outputs": [
    {
     "name": "stderr",
     "output_type": "stream",
     "text": [
      "c:\\users\\ashwi\\appdata\\local\\programs\\python\\python37\\lib\\site-packages\\sklearn\\externals\\joblib\\__init__.py:15: FutureWarning: sklearn.externals.joblib is deprecated in 0.21 and will be removed in 0.23. Please import this functionality directly from joblib, which can be installed with: pip install joblib. If this warning is raised when loading pickled models, you may need to re-serialize those models with scikit-learn 0.21+.\n",
      "  warnings.warn(msg, category=FutureWarning)\n"
     ]
    }
   ],
   "source": [
    "import For_Double_Model_Creation as fdm\n",
    "import pandas as pd"
   ]
  },
  {
   "cell_type": "code",
   "execution_count": 20,
   "metadata": {},
   "outputs": [],
   "source": [
    "Data = pd.read_csv('2018-2020 Sales,COVID,Demogrphics,Types.csv')"
   ]
  },
  {
   "cell_type": "code",
   "execution_count": 3,
   "metadata": {},
   "outputs": [],
   "source": [
    "from Dashboard import dateconvert\n",
    "Data = dateconvert(Data)"
   ]
  },
  {
   "cell_type": "code",
   "execution_count": 7,
   "metadata": {},
   "outputs": [],
   "source": [
    "NewDf = Data[['Bill Date','Brand','CCG ', 'LDW','Qty','State',\n",
    "       'County','Covid cases','age_median',\n",
    "       'family_size', 'income_household_median', 'education_college_or_above',\n",
    "       'labor_force_participation','Year']]"
   ]
  },
  {
   "cell_type": "code",
   "execution_count": 9,
   "metadata": {},
   "outputs": [
    {
     "name": "stdout",
     "output_type": "stream",
     "text": [
      "Wall time: 1min 38s\n"
     ]
    }
   ],
   "source": [
    "%%time\n",
    "RowL = fdm.iterring_rows(NewDf, 'Orders_Pan')"
   ]
  },
  {
   "cell_type": "code",
   "execution_count": 10,
   "metadata": {},
   "outputs": [
    {
     "name": "stdout",
     "output_type": "stream",
     "text": [
      "Wall time: 8min 51s\n"
     ]
    }
   ],
   "source": [
    "%%time\n",
    "NewDf = fdm.update_predictions(NewDf,RowL,'Orders_Pan')"
   ]
  },
  {
   "cell_type": "code",
   "execution_count": 11,
   "metadata": {
    "scrolled": true
   },
   "outputs": [
    {
     "name": "stdout",
     "output_type": "stream",
     "text": [
      "Wall time: 3min 3s\n"
     ]
    }
   ],
   "source": [
    "%%time\n",
    "RowS = fdm.iterring_rows(NewDf, 'Sales_Pan')"
   ]
  },
  {
   "cell_type": "code",
   "execution_count": 12,
   "metadata": {},
   "outputs": [
    {
     "name": "stdout",
     "output_type": "stream",
     "text": [
      "Wall time: 1min 1s\n"
     ]
    }
   ],
   "source": [
    "%%time\n",
    "NewDf = fdm.update_predictions(NewDf,RowS, 'Sales_Pan')"
   ]
  },
  {
   "cell_type": "code",
   "execution_count": 13,
   "metadata": {},
   "outputs": [
    {
     "name": "stdout",
     "output_type": "stream",
     "text": [
      "Wall time: 2min 38s\n"
     ]
    }
   ],
   "source": [
    "%%time\n",
    "RowNat = fdm.iterring_rows(NewDf, 'Sales_Nhist')\n",
    "NewDf = fdm.update_predictions(NewDf,RowNat, 'Sales_Nhist')"
   ]
  },
  {
   "cell_type": "code",
   "execution_count": 14,
   "metadata": {},
   "outputs": [],
   "source": [
    "NewDf['Actual Vs COVID Sales'] = NewDf['Qty'] - NewDf['Sales Pan']\n",
    "NewDf['Actual Vs Nhist Sales'] = NewDf['Qty'] - NewDf['Natural Sales']"
   ]
  },
  {
   "cell_type": "code",
   "execution_count": 15,
   "metadata": {},
   "outputs": [
    {
     "data": {
      "text/plain": [
       "0.6877121265860143"
      ]
     },
     "execution_count": 15,
     "metadata": {},
     "output_type": "execute_result"
    }
   ],
   "source": [
    "Acc = NewDf['Actual Vs COVID Sales'].to_list()\n",
    "q = [ele for ele in Acc if ele == 0]\n",
    "len(q)/len(Acc)"
   ]
  },
  {
   "cell_type": "code",
   "execution_count": 16,
   "metadata": {},
   "outputs": [
    {
     "data": {
      "text/plain": [
       "0.6879503038053989"
      ]
     },
     "execution_count": 16,
     "metadata": {},
     "output_type": "execute_result"
    }
   ],
   "source": [
    "Acc = NewDf['Actual Vs Nhist Sales'].to_list()\n",
    "q = [ele for ele in Acc if ele == 0]\n",
    "len(q)/len(Acc)"
   ]
  },
  {
   "cell_type": "code",
   "execution_count": 17,
   "metadata": {},
   "outputs": [],
   "source": [
    "NewDf = NewDf.sort_values('Bill Date')"
   ]
  },
  {
   "cell_type": "code",
   "execution_count": 19,
   "metadata": {},
   "outputs": [
    {
     "data": {
      "text/plain": [
       "Index(['Bill Date', 'Brand', 'CCG ', 'LDW', 'Qty', 'State', 'County',\n",
       "       'Covid cases', 'age_median', 'family_size', 'income_household_median',\n",
       "       'education_college_or_above', 'labor_force_participation', 'Year',\n",
       "       'R_Res', 'B_Res', 'S_Res', 'G_Res', 'NE_Res', 'SAH', 'EM', 'FM',\n",
       "       'Q_Res', 'Sales Pan', 'Natural Sales', 'Actual Vs COVID Sales',\n",
       "       'Actual Vs Nhist Sales'],\n",
       "      dtype='object')"
      ]
     },
     "execution_count": 19,
     "metadata": {},
     "output_type": "execute_result"
    }
   ],
   "source": [
    "NewDf.columns"
   ]
  },
  {
   "cell_type": "code",
   "execution_count": 26,
   "metadata": {
    "scrolled": true
   },
   "outputs": [
    {
     "name": "stdout",
     "output_type": "stream",
     "text": [
      "Florida : 0.5531819115161662\n",
      "California : 0.6948875436348372\n",
      "New York : 0.8462290265018002\n",
      "Utah : 0.8469387755102041\n",
      "Nebraska : 0.8855940309929213\n",
      "Montana : 0.8269966254218223\n",
      "Kentucky : 0.816673973403478\n",
      "Hawaii : 0.8417685794920038\n"
     ]
    }
   ],
   "source": [
    "States = NewDf['State'].unique()\n",
    "Accuracy = {}\n",
    "for state in States:\n",
    "    Statedf = NewDf[NewDf['State'] == state]\n",
    "    Acc = Statedf['Actual Vs COVID Sales'].to_list()\n",
    "    q = [ele for ele in Acc if ele == 0]\n",
    "    k = len(q)/len(Acc)\n",
    "    print(f'{state} : {k}')"
   ]
  },
  {
   "cell_type": "code",
   "execution_count": 24,
   "metadata": {},
   "outputs": [],
   "source": [
    "California  = Data[(Data['State'] == 'California')]"
   ]
  },
  {
   "cell_type": "code",
   "execution_count": 25,
   "metadata": {},
   "outputs": [
    {
     "name": "stdout",
     "output_type": "stream",
     "text": [
      "Wall time: 4min 30s\n"
     ]
    }
   ],
   "source": [
    "%%time\n",
    "x,y = fdm.create_pars_for_model(California , predict='Predict_Orders')\n",
    "xSales, ySales = fdm.create_pars_for_model(California , predict='Predict_Sales')"
   ]
  },
  {
   "cell_type": "code",
   "execution_count": 26,
   "metadata": {},
   "outputs": [],
   "source": [
    "model_R_Res,model_B_Res,model_S_Res,model_G_Res, model_NE_Res,model_SAH, model_EM, model_FM, model_Q_Res = fdm.create_models_for_orders(x,y)"
   ]
  },
  {
   "cell_type": "code",
   "execution_count": 27,
   "metadata": {},
   "outputs": [],
   "source": [
    "CaliSales = fdm.model_creation(xSales, ySales,4)"
   ]
  },
  {
   "cell_type": "code",
   "execution_count": 28,
   "metadata": {},
   "outputs": [],
   "source": [
    "rows = fdm.iterring_rows(California,'Orders_Pan')"
   ]
  },
  {
   "cell_type": "code",
   "execution_count": 29,
   "metadata": {},
   "outputs": [],
   "source": [
    "model_R_Re = []\n",
    "model_B_Re = []\n",
    "model_S_Re = []\n",
    "model_G_Re = []\n",
    "model_NE_Re = []\n",
    "model_SA = []\n",
    "model_E = []\n",
    "model_F = []\n",
    "model_Q_Re = []\n",
    "for row in rows:\n",
    "    R = model_R_Res.predict([row])\n",
    "    B = model_B_Res.predict([row])\n",
    "    S = model_S_Res.predict([row])\n",
    "    G = model_G_Res.predict([row])\n",
    "    NE = model_NE_Res.predict([row])\n",
    "    SAH = model_SAH.predict([row])\n",
    "    EM = model_EM.predict([row])\n",
    "    FM = model_FM.predict([row])\n",
    "    Q = model_Q_Res.predict([row])\n",
    "    model_R_Re.append(R[0])\n",
    "    model_B_Re.append(B[0])\n",
    "    model_S_Re.append(S[0])\n",
    "    model_G_Re.append(G[0])\n",
    "    model_NE_Re.append(NE[0])\n",
    "    model_SA.append(SAH[0])\n",
    "    model_E.append(EM[0])\n",
    "    model_F.append(FM[0])\n",
    "    model_Q_Re.append(Q[0])\n",
    "California ['R_Res'] = model_R_Re\n",
    "California ['B_Res'] = model_B_Re\n",
    "California ['S_Res'] = model_S_Re\n",
    "California ['G_Res'] = model_G_Re\n",
    "California ['NE_Res'] = model_NE_Re\n",
    "California ['SAH'] = model_SA\n",
    "California ['EM'] = model_E\n",
    "California ['FM'] = model_F\n",
    "California ['Q_Res'] = model_Q_Re"
   ]
  },
  {
   "cell_type": "code",
   "execution_count": 30,
   "metadata": {},
   "outputs": [],
   "source": [
    "rows = fdm.iterring_rows(California ,'Sales_Pan')"
   ]
  },
  {
   "cell_type": "code",
   "execution_count": 31,
   "metadata": {},
   "outputs": [],
   "source": [
    "salelist = []\n",
    "for row in rows:\n",
    "    sale = CaliSales.predict([row])\n",
    "    salelist.append(sale[0])\n",
    "California['Sales Pan'] = salelist"
   ]
  },
  {
   "cell_type": "code",
   "execution_count": 32,
   "metadata": {},
   "outputs": [
    {
     "data": {
      "text/plain": [
       "0.6948875436348372"
      ]
     },
     "execution_count": 32,
     "metadata": {},
     "output_type": "execute_result"
    }
   ],
   "source": [
    "California['Actual Vs COVID Sales'] = California['Qty'] - California['Sales Pan']\n",
    "Acc = California['Actual Vs COVID Sales'].to_list()\n",
    "q = [ele for ele in Acc if ele == 0]\n",
    "len(q)/len(Acc)"
   ]
  },
  {
   "cell_type": "code",
   "execution_count": 56,
   "metadata": {},
   "outputs": [
    {
     "data": {
      "text/plain": [
       "Index(['Unnamed: 0', 'Sub Brand', 'Bill Date', 'Qty', 'Brand', 'State',\n",
       "       'County', 'R_Res', 'B_Res', 'S_Res', 'G_Res', 'NE_Res', 'SAH', 'EM',\n",
       "       'FM', 'Q_Res', 'Covid cases', 'Zip Eliminated', 'age_median',\n",
       "       'family_size', 'income_household_median', 'education_college_or_above',\n",
       "       'labor_force_participation', 'unemployment_rate', 'race_white',\n",
       "       'race_black', 'race_asian', 'race_native', 'race_pacific', 'race_other',\n",
       "       'race_multiple', 'Year', 'Series ', 'Brand.1', 'CCG ', 'LDW',\n",
       "       'Sales Pan', 'Actual Vs COVID Sales'],\n",
       "      dtype='object')"
      ]
     },
     "execution_count": 56,
     "metadata": {},
     "output_type": "execute_result"
    }
   ],
   "source": [
    "Florida.columns"
   ]
  },
  {
   "cell_type": "code",
   "execution_count": 55,
   "metadata": {},
   "outputs": [],
   "source": [
    "NAdrop = Florida.dropna()"
   ]
  },
  {
   "cell_type": "code",
   "execution_count": 57,
   "metadata": {},
   "outputs": [],
   "source": [
    "NAdrop = NAdrop.groupby(['CCG ', 'LDW']).agg({'Qty':'sum','Sales Pan':'sum','Actual Vs COVID Sales':'sum'})"
   ]
  },
  {
   "cell_type": "code",
   "execution_count": 59,
   "metadata": {},
   "outputs": [
    {
     "data": {
      "text/html": [
       "<div>\n",
       "<style scoped>\n",
       "    .dataframe tbody tr th:only-of-type {\n",
       "        vertical-align: middle;\n",
       "    }\n",
       "\n",
       "    .dataframe tbody tr th {\n",
       "        vertical-align: top;\n",
       "    }\n",
       "\n",
       "    .dataframe thead th {\n",
       "        text-align: right;\n",
       "    }\n",
       "</style>\n",
       "<table border=\"1\" class=\"dataframe\">\n",
       "  <thead>\n",
       "    <tr style=\"text-align: right;\">\n",
       "      <th></th>\n",
       "      <th>CCG</th>\n",
       "      <th>LDW</th>\n",
       "      <th>Qty</th>\n",
       "      <th>Sales Pan</th>\n",
       "      <th>Actual Vs COVID Sales</th>\n",
       "    </tr>\n",
       "  </thead>\n",
       "  <tbody>\n",
       "    <tr>\n",
       "      <th>0</th>\n",
       "      <td>Commercial</td>\n",
       "      <td>Desktop</td>\n",
       "      <td>1277781</td>\n",
       "      <td>47084</td>\n",
       "      <td>1230697</td>\n",
       "    </tr>\n",
       "    <tr>\n",
       "      <th>1</th>\n",
       "      <td>Commercial</td>\n",
       "      <td>Laptop</td>\n",
       "      <td>1632671</td>\n",
       "      <td>88729</td>\n",
       "      <td>1543942</td>\n",
       "    </tr>\n",
       "    <tr>\n",
       "      <th>2</th>\n",
       "      <td>Commercial</td>\n",
       "      <td>Workstation</td>\n",
       "      <td>70634</td>\n",
       "      <td>8999</td>\n",
       "      <td>61635</td>\n",
       "    </tr>\n",
       "    <tr>\n",
       "      <th>3</th>\n",
       "      <td>Consumer</td>\n",
       "      <td>Desktop</td>\n",
       "      <td>118553</td>\n",
       "      <td>18141</td>\n",
       "      <td>100412</td>\n",
       "    </tr>\n",
       "    <tr>\n",
       "      <th>4</th>\n",
       "      <td>Consumer</td>\n",
       "      <td>Laptop</td>\n",
       "      <td>3292668</td>\n",
       "      <td>95359</td>\n",
       "      <td>3197309</td>\n",
       "    </tr>\n",
       "    <tr>\n",
       "      <th>5</th>\n",
       "      <td>Consumer</td>\n",
       "      <td>Workstation</td>\n",
       "      <td>75232</td>\n",
       "      <td>10997</td>\n",
       "      <td>64235</td>\n",
       "    </tr>\n",
       "    <tr>\n",
       "      <th>6</th>\n",
       "      <td>Gaming</td>\n",
       "      <td>Desktop</td>\n",
       "      <td>3871</td>\n",
       "      <td>1956</td>\n",
       "      <td>1915</td>\n",
       "    </tr>\n",
       "    <tr>\n",
       "      <th>7</th>\n",
       "      <td>Gaming</td>\n",
       "      <td>Laptop</td>\n",
       "      <td>29453</td>\n",
       "      <td>10336</td>\n",
       "      <td>19117</td>\n",
       "    </tr>\n",
       "  </tbody>\n",
       "</table>\n",
       "</div>"
      ],
      "text/plain": [
       "         CCG           LDW      Qty  Sales Pan  Actual Vs COVID Sales\n",
       "0  Commercial      Desktop  1277781      47084                1230697\n",
       "1  Commercial      Laptop   1632671      88729                1543942\n",
       "2  Commercial  Workstation    70634       8999                  61635\n",
       "3    Consumer      Desktop   118553      18141                 100412\n",
       "4    Consumer      Laptop   3292668      95359                3197309\n",
       "5    Consumer  Workstation    75232      10997                  64235\n",
       "6     Gaming       Desktop     3871       1956                   1915\n",
       "7     Gaming       Laptop     29453      10336                  19117"
      ]
     },
     "execution_count": 59,
     "metadata": {},
     "output_type": "execute_result"
    }
   ],
   "source": [
    "NAdrop.reset_index()"
   ]
  },
  {
   "cell_type": "code",
   "execution_count": 60,
   "metadata": {},
   "outputs": [
    {
     "data": {
      "text/plain": [
       "array(['PCG THINK NOTEBOOK', 'PCG LENOVO NOTEBOOK', 'PCG THINK DESKTOP',\n",
       "       'PCG WORKSTATION', 'PCG LENOVO DESKTOP', 'THINK-CHROME',\n",
       "       'PCG WORKSTATION-NOTEBOOK', 'LENOVO-CHROME'], dtype=object)"
      ]
     },
     "execution_count": 60,
     "metadata": {},
     "output_type": "execute_result"
    }
   ],
   "source": [
    "Data['Brand'].unique()"
   ]
  },
  {
   "cell_type": "code",
   "execution_count": null,
   "metadata": {},
   "outputs": [],
   "source": []
  }
 ],
 "metadata": {
  "kernelspec": {
   "display_name": "Python 3",
   "language": "python",
   "name": "python3"
  },
  "language_info": {
   "codemirror_mode": {
    "name": "ipython",
    "version": 3
   },
   "file_extension": ".py",
   "mimetype": "text/x-python",
   "name": "python",
   "nbconvert_exporter": "python",
   "pygments_lexer": "ipython3",
   "version": "3.7.9"
  }
 },
 "nbformat": 4,
 "nbformat_minor": 4
}
